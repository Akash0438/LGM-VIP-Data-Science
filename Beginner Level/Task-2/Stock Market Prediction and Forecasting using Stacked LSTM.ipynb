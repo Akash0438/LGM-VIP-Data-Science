{
  "nbformat": 4,
  "nbformat_minor": 0,
  "metadata": {
    "colab": {
      "name": "TASK-2",
      "provenance": []
    },
    "kernelspec": {
      "name": "python3",
      "display_name": "Python 3"
    },
    "language_info": {
      "name": "python"
    }
  },
  "cells": [
    {
      "cell_type": "markdown",
      "metadata": {
        "id": "42TO85CyeVLL"
      },
      "source": [
        "# **LGM-VIP Data Science Internship Programme**"
      ]
    },
    {
      "cell_type": "markdown",
      "metadata": {
        "id": "bZFnT_L8a4Q7"
      },
      "source": [
        "# **Beginner Level Task-2**\n",
        "# **Name: Stock Market Prediction and Forecasting using Stacked LSTM** "
      ]
    },
    {
      "cell_type": "markdown",
      "metadata": {
        "id": "Zox_oFSWeyEj"
      },
      "source": [
        "\n",
        "**The data I have used for this Activity is data about Tata Industries Stock Market : iris.data**\n",
        "\n"
      ]
    },
    {
      "cell_type": "markdown",
      "metadata": {
        "id": "PkOMxVsSe0Ja"
      },
      "source": [
        "Following are the few libraries we need to import for our fitting."
      ]
    },
    {
      "cell_type": "code",
      "metadata": {
        "id": "2x2JcA2SaCRH"
      },
      "source": [
        "import math # used for denoting special mathametical functions\n",
        "import numpy # numpy library used doing various operations on arrays\n",
        "import pandas as pd # pandas library used for doing statstical calculations\n",
        "import seaborn as sb # seaborn library is also used to interpreting the data in variousgraphs\n",
        "import tensorflow as tf # specifically purpose of numerical computation using data-flow graphs as its source.\n",
        "import matplotlib.pyplot as plt # Matplotlib library is used for interpreting data in various graphs\n",
        "from sklearn.preprocessing import MinMaxScaler\n",
        "from keras.models import Sequential\n",
        "from keras.layers import Dense, LSTM"
      ],
      "execution_count": 68,
      "outputs": []
    },
    {
      "cell_type": "markdown",
      "metadata": {
        "id": "qEKYuVE6e-Uh"
      },
      "source": [
        "We firstly need to read the csv file into our variable called data. For this purpose, we use pre-defined function : read_csv in pandas library."
      ]
    },
    {
      "cell_type": "markdown",
      "metadata": {
        "id": "Qy2A0XoNfSTc"
      },
      "source": [
        "**Reading the csv file:**"
      ]
    },
    {
      "cell_type": "code",
      "metadata": {
        "colab": {
          "base_uri": "https://localhost:8080/",
          "height": 204
        },
        "id": "3aHgfn7CfTVj",
        "outputId": "bcb142f0-5116-4355-f1c3-ac16d51d0501"
      },
      "source": [
        "data = pd.read_csv('https://raw.githubusercontent.com/mwitiderrick/stockprice/master/NSE-TATAGLOBAL.csv') #Reading the csv file in data\n",
        "data.head() #Head is used to show top 5 rows of the data"
      ],
      "execution_count": 69,
      "outputs": [
        {
          "output_type": "execute_result",
          "data": {
            "text/html": [
              "<div>\n",
              "<style scoped>\n",
              "    .dataframe tbody tr th:only-of-type {\n",
              "        vertical-align: middle;\n",
              "    }\n",
              "\n",
              "    .dataframe tbody tr th {\n",
              "        vertical-align: top;\n",
              "    }\n",
              "\n",
              "    .dataframe thead th {\n",
              "        text-align: right;\n",
              "    }\n",
              "</style>\n",
              "<table border=\"1\" class=\"dataframe\">\n",
              "  <thead>\n",
              "    <tr style=\"text-align: right;\">\n",
              "      <th></th>\n",
              "      <th>Date</th>\n",
              "      <th>Open</th>\n",
              "      <th>High</th>\n",
              "      <th>Low</th>\n",
              "      <th>Last</th>\n",
              "      <th>Close</th>\n",
              "      <th>Total Trade Quantity</th>\n",
              "      <th>Turnover (Lacs)</th>\n",
              "    </tr>\n",
              "  </thead>\n",
              "  <tbody>\n",
              "    <tr>\n",
              "      <th>0</th>\n",
              "      <td>2018-09-28</td>\n",
              "      <td>234.05</td>\n",
              "      <td>235.95</td>\n",
              "      <td>230.20</td>\n",
              "      <td>233.50</td>\n",
              "      <td>233.75</td>\n",
              "      <td>3069914</td>\n",
              "      <td>7162.35</td>\n",
              "    </tr>\n",
              "    <tr>\n",
              "      <th>1</th>\n",
              "      <td>2018-09-27</td>\n",
              "      <td>234.55</td>\n",
              "      <td>236.80</td>\n",
              "      <td>231.10</td>\n",
              "      <td>233.80</td>\n",
              "      <td>233.25</td>\n",
              "      <td>5082859</td>\n",
              "      <td>11859.95</td>\n",
              "    </tr>\n",
              "    <tr>\n",
              "      <th>2</th>\n",
              "      <td>2018-09-26</td>\n",
              "      <td>240.00</td>\n",
              "      <td>240.00</td>\n",
              "      <td>232.50</td>\n",
              "      <td>235.00</td>\n",
              "      <td>234.25</td>\n",
              "      <td>2240909</td>\n",
              "      <td>5248.60</td>\n",
              "    </tr>\n",
              "    <tr>\n",
              "      <th>3</th>\n",
              "      <td>2018-09-25</td>\n",
              "      <td>233.30</td>\n",
              "      <td>236.75</td>\n",
              "      <td>232.00</td>\n",
              "      <td>236.25</td>\n",
              "      <td>236.10</td>\n",
              "      <td>2349368</td>\n",
              "      <td>5503.90</td>\n",
              "    </tr>\n",
              "    <tr>\n",
              "      <th>4</th>\n",
              "      <td>2018-09-24</td>\n",
              "      <td>233.55</td>\n",
              "      <td>239.20</td>\n",
              "      <td>230.75</td>\n",
              "      <td>234.00</td>\n",
              "      <td>233.30</td>\n",
              "      <td>3423509</td>\n",
              "      <td>7999.55</td>\n",
              "    </tr>\n",
              "  </tbody>\n",
              "</table>\n",
              "</div>"
            ],
            "text/plain": [
              "         Date    Open    High  ...   Close  Total Trade Quantity  Turnover (Lacs)\n",
              "0  2018-09-28  234.05  235.95  ...  233.75               3069914          7162.35\n",
              "1  2018-09-27  234.55  236.80  ...  233.25               5082859         11859.95\n",
              "2  2018-09-26  240.00  240.00  ...  234.25               2240909          5248.60\n",
              "3  2018-09-25  233.30  236.75  ...  236.10               2349368          5503.90\n",
              "4  2018-09-24  233.55  239.20  ...  233.30               3423509          7999.55\n",
              "\n",
              "[5 rows x 8 columns]"
            ]
          },
          "metadata": {},
          "execution_count": 69
        }
      ]
    },
    {
      "cell_type": "code",
      "metadata": {
        "colab": {
          "base_uri": "https://localhost:8080/"
        },
        "id": "Ib2PKzH9uReD",
        "outputId": "f8b10c5a-6b20-4f0c-e3bf-4512607046ea"
      },
      "source": [
        "data.shape"
      ],
      "execution_count": 70,
      "outputs": [
        {
          "output_type": "execute_result",
          "data": {
            "text/plain": [
              "(2035, 8)"
            ]
          },
          "metadata": {},
          "execution_count": 70
        }
      ]
    },
    {
      "cell_type": "code",
      "metadata": {
        "colab": {
          "base_uri": "https://localhost:8080/",
          "height": 644
        },
        "id": "qK3xLlgqusbU",
        "outputId": "33fc282b-194d-4ea8-eadb-c2576a3de7d6"
      },
      "source": [
        "plt.figure(figsize=(30,10))\n",
        "plt.title('History Of Closing Prices of TATA Stocks')\n",
        "plt.plot(data['Close'])\n",
        "plt.xlabel('Date',fontsize=15)\n",
        "plt.ylabel('Close',fontsize=15)\n"
      ],
      "execution_count": 71,
      "outputs": [
        {
          "output_type": "execute_result",
          "data": {
            "text/plain": [
              "Text(0, 0.5, 'Close')"
            ]
          },
          "metadata": {},
          "execution_count": 71
        },
        {
          "output_type": "display_data",
          "data": {
            "image/png": "[encoded data removed]",
            "text/plain": [
              "<Figure size 2160x720 with 1 Axes>"
            ]
          },
          "metadata": {
            "needs_background": "light"
          }
        }
      ]
    },
    {
      "cell_type": "markdown",
      "metadata": {
        "id": "qD0_p5Eu6mcZ"
      },
      "source": [
        "**Now for the prediction purpose, now I am going to select the 'Close' Column into a new data frame**"
      ]
    },
    {
      "cell_type": "code",
      "metadata": {
        "colab": {
          "base_uri": "https://localhost:8080/"
        },
        "id": "Z7jSZflQ6l5A",
        "outputId": "76ee042b-b39d-44b3-84a7-75fc03fc7e70"
      },
      "source": [
        "data1=data.reset_index()['Close']\n",
        "data1"
      ],
      "execution_count": 72,
      "outputs": [
        {
          "output_type": "execute_result",
          "data": {
            "text/plain": [
              "0       233.75\n",
              "1       233.25\n",
              "2       234.25\n",
              "3       236.10\n",
              "4       233.30\n",
              "         ...  \n",
              "2030    118.65\n",
              "2031    117.60\n",
              "2032    120.65\n",
              "2033    120.90\n",
              "2034    121.55\n",
              "Name: Close, Length: 2035, dtype: float64"
            ]
          },
          "metadata": {},
          "execution_count": 72
        }
      ]
    },
    {
      "cell_type": "markdown",
      "metadata": {
        "id": "IoB2fov67N1Y"
      },
      "source": [
        "Before going to LSTM Model we see that the values of close are in '233.75,233.25,234.25,.....' All values are near to some common value. Since computation becomes difficult we are going to use **MinMaxScaler** to change the values in the range of (0,1), So our computation of values becomes easier"
      ]
    },
    {
      "cell_type": "code",
      "metadata": {
        "colab": {
          "base_uri": "https://localhost:8080/"
        },
        "id": "s_zOKzNJ8Cx2",
        "outputId": "da98bf96-c93c-4815-a6a6-38b2359100e1"
      },
      "source": [
        "from sklearn.preprocessing import MinMaxScaler\n",
        "scaler=MinMaxScaler(feature_range=(0,1))\n",
        "data1=scaler.fit_transform(numpy.array(data1).reshape(-1,1))\n",
        "data1"
      ],
      "execution_count": 73,
      "outputs": [
        {
          "output_type": "execute_result",
          "data": {
            "text/plain": [
              "array([[0.62418301],\n",
              "       [0.62214052],\n",
              "       [0.62622549],\n",
              "       ...,\n",
              "       [0.1621732 ],\n",
              "       [0.16319444],\n",
              "       [0.16584967]])"
            ]
          },
          "metadata": {},
          "execution_count": 73
        }
      ]
    },
    {
      "cell_type": "markdown",
      "metadata": {
        "id": "SPl5mQeA8qtu"
      },
      "source": [
        "Splitting the dataset 'data1' into training phase(80%) and testing phase(20%)"
      ]
    },
    {
      "cell_type": "code",
      "metadata": {
        "id": "2kQ5MRln86jQ"
      },
      "source": [
        "train_size=int(len(data1)*0.80)\n",
        "test_size=len(data1)-training_size\n",
        "train_data,test_data=data1[0:training_size,:],data1[training_size:len(data1),:1]"
      ],
      "execution_count": 74,
      "outputs": []
    },
    {
      "cell_type": "code",
      "metadata": {
        "colab": {
          "base_uri": "https://localhost:8080/"
        },
        "id": "uQi79h4B9RSn",
        "outputId": "b9b9a126-62cd-4744-eddb-8e22782f38f0"
      },
      "source": [
        "train_size,test_size"
      ],
      "execution_count": 75,
      "outputs": [
        {
          "output_type": "execute_result",
          "data": {
            "text/plain": [
              "(1628, 407)"
            ]
          },
          "metadata": {},
          "execution_count": 75
        }
      ]
    },
    {
      "cell_type": "code",
      "metadata": {
        "colab": {
          "base_uri": "https://localhost:8080/"
        },
        "id": "bRpc0lQ_9beN",
        "outputId": "80248048-2135-4bb6-908d-82b833b37f2e"
      },
      "source": [
        "train_data"
      ],
      "execution_count": 76,
      "outputs": [
        {
          "output_type": "execute_result",
          "data": {
            "text/plain": [
              "array([[0.62418301],\n",
              "       [0.62214052],\n",
              "       [0.62622549],\n",
              "       ...,\n",
              "       [0.1435866 ],\n",
              "       [0.13419118],\n",
              "       [0.1431781 ]])"
            ]
          },
          "metadata": {},
          "execution_count": 76
        }
      ]
    },
    {
      "cell_type": "markdown",
      "metadata": {
        "id": "lQnj6muR9nb-"
      },
      "source": [
        "Before going to next step we should analyze that 'What kind off Dataset We got?'.\n",
        "\n",
        "---\n",
        "\n",
        "\n",
        "We got a Time Series Dataset.\n",
        "\n",
        "---\n",
        "Now we are going to link the values of datasets to each like\n",
        "\n",
        "---\n",
        "![Screenshot 2021-11-06 032245.jpg](data:image/jpeg;base64,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)\n"
      ]
    },
    {
      "cell_type": "code",
      "metadata": {
        "id": "2R49k-NG9ex1"
      },
      "source": [
        "def create_dataset(dataset, time_step=1):\n",
        "\tdataX, dataY = [], []\n",
        "\tfor i in range(len(dataset)-time_step-1):\n",
        "\t\ta = dataset[i:(i+time_step), 0]   ###i=0, 0,1,2,3-----99   100 \n",
        "\t\tdataX.append(a)\n",
        "\t\tdataY.append(dataset[i + time_step, 0])\n",
        "\treturn numpy.array(dataX), numpy.array(dataY)"
      ],
      "execution_count": 77,
      "outputs": []
    },
    {
      "cell_type": "markdown",
      "metadata": {
        "id": "rm2yIptVHNLv"
      },
      "source": [
        "Now I am fixing the step size value as 100"
      ]
    },
    {
      "cell_type": "code",
      "metadata": {
        "id": "QougWG8tHT3f"
      },
      "source": [
        "time_step = 100\n",
        "X_train, y_train = create_dataset(train_data, time_step)\n",
        "X_test, ytest = create_dataset(test_data, time_step)"
      ],
      "execution_count": 78,
      "outputs": []
    },
    {
      "cell_type": "code",
      "metadata": {
        "colab": {
          "base_uri": "https://localhost:8080/"
        },
        "id": "qj7mGJfUITT2",
        "outputId": "21b61fe7-19b0-4476-9ae3-7320c4a418c1"
      },
      "source": [
        "print(X_train.shape), print(y_train.shape)\n",
        "print(X_test.shape), print(ytest.shape)"
      ],
      "execution_count": 79,
      "outputs": [
        {
          "output_type": "stream",
          "name": "stdout",
          "text": [
            "(1527, 100)\n",
            "(1527,)\n",
            "(306, 100)\n",
            "(306,)\n"
          ]
        },
        {
          "output_type": "execute_result",
          "data": {
            "text/plain": [
              "(None, None)"
            ]
          },
          "metadata": {},
          "execution_count": 79
        }
      ]
    },
    {
      "cell_type": "markdown",
      "metadata": {
        "id": "9yYMx-fZIiNG"
      },
      "source": [
        "Reshapping the X_train and X_test dataframe"
      ]
    },
    {
      "cell_type": "code",
      "metadata": {
        "id": "Gjhn7NHjIrk_"
      },
      "source": [
        "X_train =X_train.reshape(X_train.shape[0],X_train.shape[1] , 1)\n",
        "X_test = X_test.reshape(X_test.shape[0],X_test.shape[1] , 1)"
      ],
      "execution_count": 80,
      "outputs": []
    },
    {
      "cell_type": "markdown",
      "metadata": {
        "id": "1nQR3eR6Ixn-"
      },
      "source": [
        "# **Create the Stacked LSTM model**"
      ]
    },
    {
      "cell_type": "code",
      "metadata": {
        "id": "PK9opVMxI9F8"
      },
      "source": [
        "lst=Sequential()\n",
        "lst.add(LSTM(50,return_sequences=True,input_shape=(100,1)))\n",
        "lst.add(LSTM(50,return_sequences=True))\n",
        "lst.add(LSTM(50))\n",
        "lst.add(Dense(1))\n",
        "lst.compile(loss='mean_squared_error',optimizer='adam')"
      ],
      "execution_count": 82,
      "outputs": []
    },
    {
      "cell_type": "code",
      "metadata": {
        "colab": {
          "base_uri": "https://localhost:8080/"
        },
        "id": "M7Q952neJO7u",
        "outputId": "1dbd8cf1-675f-4d25-ae21-6e6c24c3b876"
      },
      "source": [
        "lst.summary()"
      ],
      "execution_count": 83,
      "outputs": [
        {
          "output_type": "stream",
          "name": "stdout",
          "text": [
            "Model: \"sequential_4\"\n",
            "_________________________________________________________________\n",
            "Layer (type)                 Output Shape              Param #   \n",
            "=================================================================\n",
            "lstm_6 (LSTM)                (None, 100, 50)           10400     \n",
            "_________________________________________________________________\n",
            "lstm_7 (LSTM)                (None, 100, 50)           20200     \n",
            "_________________________________________________________________\n",
            "lstm_8 (LSTM)                (None, 50)                20200     \n",
            "_________________________________________________________________\n",
            "dense_2 (Dense)              (None, 1)                 51        \n",
            "=================================================================\n",
            "Total params: 50,851\n",
            "Trainable params: 50,851\n",
            "Non-trainable params: 0\n",
            "_________________________________________________________________\n"
          ]
        }
      ]
    },
    {
      "cell_type": "code",
      "metadata": {
        "colab": {
          "base_uri": "https://localhost:8080/"
        },
        "id": "Ez1uJcUcJT0H",
        "outputId": "eced8062-17fd-4035-f054-bd3ab6abd217"
      },
      "source": [
        "lst.fit(X_train,y_train,validation_data=(X_test,ytest),epochs=100,batch_size=64,verbose=1)"
      ],
      "execution_count": 84,
      "outputs": [
        {
          "output_type": "stream",
          "name": "stdout",
          "text": [
            "Epoch 1/100\n",
            "24/24 [==============================] - 10s 234ms/step - loss: 0.0158 - val_loss: 0.0018\n",
            "Epoch 2/100\n",
            "24/24 [==============================] - 4s 177ms/step - loss: 0.0021 - val_loss: 6.4297e-04\n",
            "Epoch 3/100\n",
            "24/24 [==============================] - 4s 179ms/step - loss: 0.0016 - val_loss: 6.6481e-04\n",
            "Epoch 4/100\n",
            "24/24 [==============================] - 4s 183ms/step - loss: 0.0016 - val_loss: 6.5549e-04\n",
            "Epoch 5/100\n",
            "24/24 [==============================] - 4s 183ms/step - loss: 0.0015 - val_loss: 8.1878e-04\n",
            "Epoch 6/100\n",
            "24/24 [==============================] - 4s 183ms/step - loss: 0.0013 - val_loss: 6.8600e-04\n",
            "Epoch 7/100\n",
            "24/24 [==============================] - 4s 181ms/step - loss: 0.0012 - val_loss: 5.2110e-04\n",
            "Epoch 8/100\n",
            "24/24 [==============================] - 4s 185ms/step - loss: 0.0012 - val_loss: 6.9330e-04\n",
            "Epoch 9/100\n",
            "24/24 [==============================] - 4s 183ms/step - loss: 0.0011 - val_loss: 5.1584e-04\n",
            "Epoch 10/100\n",
            "24/24 [==============================] - 4s 183ms/step - loss: 0.0011 - val_loss: 5.1501e-04\n",
            "Epoch 11/100\n",
            "24/24 [==============================] - 4s 180ms/step - loss: 9.4086e-04 - val_loss: 4.8522e-04\n",
            "Epoch 12/100\n",
            "24/24 [==============================] - 4s 178ms/step - loss: 9.8456e-04 - val_loss: 5.7118e-04\n",
            "Epoch 13/100\n",
            "24/24 [==============================] - 4s 180ms/step - loss: 8.7866e-04 - val_loss: 5.3914e-04\n",
            "Epoch 14/100\n",
            "24/24 [==============================] - 4s 178ms/step - loss: 8.7396e-04 - val_loss: 4.6102e-04\n",
            "Epoch 15/100\n",
            "24/24 [==============================] - 4s 177ms/step - loss: 8.7983e-04 - val_loss: 5.7710e-04\n",
            "Epoch 16/100\n",
            "24/24 [==============================] - 4s 179ms/step - loss: 8.3379e-04 - val_loss: 5.8748e-04\n",
            "Epoch 17/100\n",
            "24/24 [==============================] - 4s 182ms/step - loss: 8.1344e-04 - val_loss: 5.4120e-04\n",
            "Epoch 18/100\n",
            "24/24 [==============================] - 4s 184ms/step - loss: 7.8865e-04 - val_loss: 7.6275e-04\n",
            "Epoch 19/100\n",
            "24/24 [==============================] - 4s 184ms/step - loss: 7.4865e-04 - val_loss: 6.7337e-04\n",
            "Epoch 20/100\n",
            "24/24 [==============================] - 4s 184ms/step - loss: 8.3409e-04 - val_loss: 4.8547e-04\n",
            "Epoch 21/100\n",
            "24/24 [==============================] - 4s 184ms/step - loss: 6.9943e-04 - val_loss: 6.0005e-04\n",
            "Epoch 22/100\n",
            "24/24 [==============================] - 4s 186ms/step - loss: 6.5288e-04 - val_loss: 4.1491e-04\n",
            "Epoch 23/100\n",
            "24/24 [==============================] - 4s 188ms/step - loss: 6.7035e-04 - val_loss: 3.7854e-04\n",
            "Epoch 24/100\n",
            "24/24 [==============================] - 4s 184ms/step - loss: 6.5570e-04 - val_loss: 4.3292e-04\n",
            "Epoch 25/100\n",
            "24/24 [==============================] - 4s 184ms/step - loss: 6.7491e-04 - val_loss: 4.9581e-04\n",
            "Epoch 26/100\n",
            "24/24 [==============================] - 4s 184ms/step - loss: 6.5108e-04 - val_loss: 3.8760e-04\n",
            "Epoch 27/100\n",
            "24/24 [==============================] - 4s 180ms/step - loss: 6.1322e-04 - val_loss: 4.4754e-04\n",
            "Epoch 28/100\n",
            "24/24 [==============================] - 4s 178ms/step - loss: 7.0522e-04 - val_loss: 5.0397e-04\n",
            "Epoch 29/100\n",
            "24/24 [==============================] - 4s 175ms/step - loss: 5.7468e-04 - val_loss: 4.4372e-04\n",
            "Epoch 30/100\n",
            "24/24 [==============================] - 4s 177ms/step - loss: 5.4658e-04 - val_loss: 4.7100e-04\n",
            "Epoch 31/100\n",
            "24/24 [==============================] - 4s 176ms/step - loss: 5.5587e-04 - val_loss: 4.4958e-04\n",
            "Epoch 32/100\n",
            "24/24 [==============================] - 4s 176ms/step - loss: 5.2931e-04 - val_loss: 3.3144e-04\n",
            "Epoch 33/100\n",
            "24/24 [==============================] - 4s 176ms/step - loss: 5.2825e-04 - val_loss: 3.3566e-04\n",
            "Epoch 34/100\n",
            "24/24 [==============================] - 4s 179ms/step - loss: 5.8804e-04 - val_loss: 4.1234e-04\n",
            "Epoch 35/100\n",
            "24/24 [==============================] - 4s 185ms/step - loss: 4.9212e-04 - val_loss: 3.4171e-04\n",
            "Epoch 36/100\n",
            "24/24 [==============================] - 4s 185ms/step - loss: 5.5224e-04 - val_loss: 3.9289e-04\n",
            "Epoch 37/100\n",
            "24/24 [==============================] - 4s 184ms/step - loss: 5.1255e-04 - val_loss: 3.1314e-04\n",
            "Epoch 38/100\n",
            "24/24 [==============================] - 4s 184ms/step - loss: 4.6827e-04 - val_loss: 3.4494e-04\n",
            "Epoch 39/100\n",
            "24/24 [==============================] - 4s 184ms/step - loss: 4.5433e-04 - val_loss: 3.5030e-04\n",
            "Epoch 40/100\n",
            "24/24 [==============================] - 4s 182ms/step - loss: 4.8752e-04 - val_loss: 3.2910e-04\n",
            "Epoch 41/100\n",
            "24/24 [==============================] - 4s 180ms/step - loss: 4.8479e-04 - val_loss: 3.4040e-04\n",
            "Epoch 42/100\n",
            "24/24 [==============================] - 4s 181ms/step - loss: 4.7894e-04 - val_loss: 3.9746e-04\n",
            "Epoch 43/100\n",
            "24/24 [==============================] - 4s 178ms/step - loss: 4.2789e-04 - val_loss: 3.2655e-04\n",
            "Epoch 44/100\n",
            "24/24 [==============================] - 4s 179ms/step - loss: 4.0903e-04 - val_loss: 3.3274e-04\n",
            "Epoch 45/100\n",
            "24/24 [==============================] - 4s 180ms/step - loss: 4.1051e-04 - val_loss: 2.7872e-04\n",
            "Epoch 46/100\n",
            "24/24 [==============================] - 4s 181ms/step - loss: 4.7774e-04 - val_loss: 3.8766e-04\n",
            "Epoch 47/100\n",
            "24/24 [==============================] - 4s 179ms/step - loss: 3.8778e-04 - val_loss: 3.1572e-04\n",
            "Epoch 48/100\n",
            "24/24 [==============================] - 4s 181ms/step - loss: 3.8324e-04 - val_loss: 2.4820e-04\n",
            "Epoch 49/100\n",
            "24/24 [==============================] - 4s 179ms/step - loss: 3.6576e-04 - val_loss: 2.4297e-04\n",
            "Epoch 50/100\n",
            "24/24 [==============================] - 4s 179ms/step - loss: 3.6339e-04 - val_loss: 2.3125e-04\n",
            "Epoch 51/100\n",
            "24/24 [==============================] - 4s 183ms/step - loss: 3.6133e-04 - val_loss: 2.2217e-04\n",
            "Epoch 52/100\n",
            "24/24 [==============================] - 4s 180ms/step - loss: 3.5788e-04 - val_loss: 2.4416e-04\n",
            "Epoch 53/100\n",
            "24/24 [==============================] - 4s 179ms/step - loss: 3.4212e-04 - val_loss: 2.3691e-04\n",
            "Epoch 54/100\n",
            "24/24 [==============================] - 4s 178ms/step - loss: 3.1728e-04 - val_loss: 2.1604e-04\n",
            "Epoch 55/100\n",
            "24/24 [==============================] - 4s 179ms/step - loss: 3.1160e-04 - val_loss: 2.6627e-04\n",
            "Epoch 56/100\n",
            "24/24 [==============================] - 4s 178ms/step - loss: 3.4651e-04 - val_loss: 2.4490e-04\n",
            "Epoch 57/100\n",
            "24/24 [==============================] - 4s 179ms/step - loss: 4.6651e-04 - val_loss: 2.0471e-04\n",
            "Epoch 58/100\n",
            "24/24 [==============================] - 4s 178ms/step - loss: 3.8587e-04 - val_loss: 1.9944e-04\n",
            "Epoch 59/100\n",
            "24/24 [==============================] - 4s 179ms/step - loss: 3.1972e-04 - val_loss: 2.3038e-04\n",
            "Epoch 60/100\n",
            "24/24 [==============================] - 4s 180ms/step - loss: 2.9764e-04 - val_loss: 1.9652e-04\n",
            "Epoch 61/100\n",
            "24/24 [==============================] - 4s 177ms/step - loss: 2.7652e-04 - val_loss: 1.9695e-04\n",
            "Epoch 62/100\n",
            "24/24 [==============================] - 4s 181ms/step - loss: 2.7660e-04 - val_loss: 2.2196e-04\n",
            "Epoch 63/100\n",
            "24/24 [==============================] - 4s 185ms/step - loss: 2.8456e-04 - val_loss: 2.0539e-04\n",
            "Epoch 64/100\n",
            "24/24 [==============================] - 4s 186ms/step - loss: 2.8307e-04 - val_loss: 1.7662e-04\n",
            "Epoch 65/100\n",
            "24/24 [==============================] - 4s 186ms/step - loss: 2.7435e-04 - val_loss: 2.1748e-04\n",
            "Epoch 66/100\n",
            "24/24 [==============================] - 4s 179ms/step - loss: 2.8190e-04 - val_loss: 1.8425e-04\n",
            "Epoch 67/100\n",
            "24/24 [==============================] - 4s 181ms/step - loss: 2.5223e-04 - val_loss: 1.6740e-04\n",
            "Epoch 68/100\n",
            "24/24 [==============================] - 4s 178ms/step - loss: 3.4675e-04 - val_loss: 2.0877e-04\n",
            "Epoch 69/100\n",
            "24/24 [==============================] - 4s 179ms/step - loss: 2.9914e-04 - val_loss: 1.9391e-04\n",
            "Epoch 70/100\n",
            "24/24 [==============================] - 4s 179ms/step - loss: 2.4576e-04 - val_loss: 1.6686e-04\n",
            "Epoch 71/100\n",
            "24/24 [==============================] - 4s 178ms/step - loss: 2.5791e-04 - val_loss: 1.6266e-04\n",
            "Epoch 72/100\n",
            "24/24 [==============================] - 4s 179ms/step - loss: 2.6053e-04 - val_loss: 2.0522e-04\n",
            "Epoch 73/100\n",
            "24/24 [==============================] - 4s 178ms/step - loss: 2.6325e-04 - val_loss: 1.8825e-04\n",
            "Epoch 74/100\n",
            "24/24 [==============================] - 4s 181ms/step - loss: 2.3495e-04 - val_loss: 1.6038e-04\n",
            "Epoch 75/100\n",
            "24/24 [==============================] - 4s 178ms/step - loss: 2.4095e-04 - val_loss: 1.8465e-04\n",
            "Epoch 76/100\n",
            "24/24 [==============================] - 4s 180ms/step - loss: 2.5497e-04 - val_loss: 1.6308e-04\n",
            "Epoch 77/100\n",
            "24/24 [==============================] - 4s 180ms/step - loss: 2.1887e-04 - val_loss: 2.0127e-04\n",
            "Epoch 78/100\n",
            "24/24 [==============================] - 4s 179ms/step - loss: 2.4094e-04 - val_loss: 1.7178e-04\n",
            "Epoch 79/100\n",
            "24/24 [==============================] - 4s 180ms/step - loss: 3.1523e-04 - val_loss: 1.6921e-04\n",
            "Epoch 80/100\n",
            "24/24 [==============================] - 4s 180ms/step - loss: 2.2647e-04 - val_loss: 1.4523e-04\n",
            "Epoch 81/100\n",
            "24/24 [==============================] - 4s 179ms/step - loss: 2.3177e-04 - val_loss: 1.4697e-04\n",
            "Epoch 82/100\n",
            "24/24 [==============================] - 4s 181ms/step - loss: 2.4858e-04 - val_loss: 1.5125e-04\n",
            "Epoch 83/100\n",
            "24/24 [==============================] - 4s 181ms/step - loss: 3.5145e-04 - val_loss: 1.5463e-04\n",
            "Epoch 84/100\n",
            "24/24 [==============================] - 4s 179ms/step - loss: 2.9813e-04 - val_loss: 1.4780e-04\n",
            "Epoch 85/100\n",
            "24/24 [==============================] - 4s 178ms/step - loss: 2.6008e-04 - val_loss: 1.4496e-04\n",
            "Epoch 86/100\n",
            "24/24 [==============================] - 4s 178ms/step - loss: 2.2813e-04 - val_loss: 1.7812e-04\n",
            "Epoch 87/100\n",
            "24/24 [==============================] - 4s 185ms/step - loss: 2.2618e-04 - val_loss: 1.4465e-04\n",
            "Epoch 88/100\n",
            "24/24 [==============================] - 4s 182ms/step - loss: 2.2209e-04 - val_loss: 1.4009e-04\n",
            "Epoch 89/100\n",
            "24/24 [==============================] - 4s 179ms/step - loss: 2.2302e-04 - val_loss: 1.4493e-04\n",
            "Epoch 90/100\n",
            "24/24 [==============================] - 4s 179ms/step - loss: 2.5717e-04 - val_loss: 1.4350e-04\n",
            "Epoch 91/100\n",
            "24/24 [==============================] - 4s 181ms/step - loss: 2.2106e-04 - val_loss: 1.6129e-04\n",
            "Epoch 92/100\n",
            "24/24 [==============================] - 4s 179ms/step - loss: 2.0709e-04 - val_loss: 1.3684e-04\n",
            "Epoch 93/100\n",
            "24/24 [==============================] - 4s 181ms/step - loss: 2.0865e-04 - val_loss: 1.3036e-04\n",
            "Epoch 94/100\n",
            "24/24 [==============================] - 4s 181ms/step - loss: 2.1247e-04 - val_loss: 1.4092e-04\n",
            "Epoch 95/100\n",
            "24/24 [==============================] - 4s 180ms/step - loss: 2.1232e-04 - val_loss: 1.4012e-04\n",
            "Epoch 96/100\n",
            "24/24 [==============================] - 4s 180ms/step - loss: 2.0653e-04 - val_loss: 1.2671e-04\n",
            "Epoch 97/100\n",
            "24/24 [==============================] - 4s 180ms/step - loss: 2.5867e-04 - val_loss: 1.3050e-04\n",
            "Epoch 98/100\n",
            "24/24 [==============================] - 4s 180ms/step - loss: 2.2284e-04 - val_loss: 1.5497e-04\n",
            "Epoch 99/100\n",
            "24/24 [==============================] - 4s 181ms/step - loss: 2.1561e-04 - val_loss: 1.9629e-04\n",
            "Epoch 100/100\n",
            "24/24 [==============================] - 4s 179ms/step - loss: 2.3176e-04 - val_loss: 1.4602e-04\n"
          ]
        },
        {
          "output_type": "execute_result",
          "data": {
            "text/plain": [
              "<keras.callbacks.History at 0x7fc9984e3890>"
            ]
          },
          "metadata": {},
          "execution_count": 84
        }
      ]
    },
    {
      "cell_type": "markdown",
      "metadata": {
        "id": "FbFV3OePLwYf"
      },
      "source": [
        "**Prediction**"
      ]
    },
    {
      "cell_type": "code",
      "metadata": {
        "id": "4EUC24qALzhu"
      },
      "source": [
        "train_predict=lst.predict(X_train)\n",
        "test_predict=lst.predict(X_test)"
      ],
      "execution_count": 91,
      "outputs": []
    },
    {
      "cell_type": "markdown",
      "metadata": {
        "id": "DDOLIYvNMduz"
      },
      "source": [
        "Reversing the MinMax Scaler"
      ]
    },
    {
      "cell_type": "code",
      "metadata": {
        "id": "bVPtIqwPMivu"
      },
      "source": [
        "train_predict=scaler.inverse_transform(train_predict)\n",
        "test_predict=scaler.inverse_transform(test_predict)"
      ],
      "execution_count": 92,
      "outputs": []
    },
    {
      "cell_type": "markdown",
      "metadata": {
        "id": "VHPx2Ct0ONJ7"
      },
      "source": [
        "Trained Data RMSE"
      ]
    },
    {
      "cell_type": "code",
      "metadata": {
        "colab": {
          "base_uri": "https://localhost:8080/"
        },
        "id": "AJweujlUOQO6",
        "outputId": "03f9c369-3cfd-483b-84e9-9611c64e2002"
      },
      "source": [
        "from sklearn.metrics import mean_squared_error\n",
        "math.sqrt(mean_squared_error(y_train,train_predict))"
      ],
      "execution_count": 93,
      "outputs": [
        {
          "output_type": "execute_result",
          "data": {
            "text/plain": [
              "161.43728302192883"
            ]
          },
          "metadata": {},
          "execution_count": 93
        }
      ]
    },
    {
      "cell_type": "markdown",
      "metadata": {
        "id": "oWKWLluhOT1r"
      },
      "source": [
        "Tested Data RMSE"
      ]
    },
    {
      "cell_type": "code",
      "metadata": {
        "colab": {
          "base_uri": "https://localhost:8080/"
        },
        "id": "h6YruEqnOXQa",
        "outputId": "55e2ea04-c49d-484d-c097-838eebb834c8"
      },
      "source": [
        "math.sqrt(mean_squared_error(ytest,test_predict))"
      ],
      "execution_count": 94,
      "outputs": [
        {
          "output_type": "execute_result",
          "data": {
            "text/plain": [
              "107.65282308965755"
            ]
          },
          "metadata": {},
          "execution_count": 94
        }
      ]
    },
    {
      "cell_type": "markdown",
      "metadata": {
        "id": "9jjxh0jWVBfm"
      },
      "source": [
        "Plotting the Predictions"
      ]
    },
    {
      "cell_type": "code",
      "metadata": {
        "colab": {
          "base_uri": "https://localhost:8080/",
          "height": 264
        },
        "id": "-dI_TU3XPrSB",
        "outputId": "43864a14-4815-41ef-b907-aee2cc76c359"
      },
      "source": [
        "look_back=100\n",
        "trainumpyredictPlot = numpy.empty_like(data1)\n",
        "trainumpyredictPlot[:, :] = numpy.nan\n",
        "trainumpyredictPlot[look_back:len(train_predict)+look_back, :] = train_predict\n",
        "testPredictPlot = numpy.empty_like(data1)\n",
        "testPredictPlot[:, :] = numpy.nan\n",
        "testPredictPlot[len(train_predict)+(look_back*2)+1:len(data1)-1, :] = test_predict\n",
        "plt.plot(scaler.inverse_transform(data1))\n",
        "plt.plot(trainumpyredictPlot)\n",
        "plt.plot(testPredictPlot)\n",
        "plt.show()"
      ],
      "execution_count": 95,
      "outputs": [
        {
          "output_type": "display_data",
          "data": {
            "image/png": "[encoded data removed]",
            "text/plain": [
              "<Figure size 432x288 with 1 Axes>"
            ]
          },
          "metadata": {
            "needs_background": "light"
          }
        }
      ]
    },
    {
      "cell_type": "markdown",
      "metadata": {
        "id": "cP3a4fJfVh0e"
      },
      "source": [
        "# Future Prediction"
      ]
    },
    {
      "cell_type": "code",
      "metadata": {
        "id": "e0XKVFrNVlyM"
      },
      "source": [
        "x_inumpyut=test_data[307:].reshape(1,-1)\n",
        "x_inumpyut.shape\n",
        "temp_inumpyut=list(x_inumpyut)\n",
        "temp_inumpyut=temp_inumpyut[0].tolist()\n",
        "temp_inumpyut=list(x_inumpyut)\n",
        "temp_inumpyut=temp_inumpyut[0].tolist()"
      ],
      "execution_count": 96,
      "outputs": []
    },
    {
      "cell_type": "code",
      "metadata": {
        "colab": {
          "base_uri": "https://localhost:8080/"
        },
        "id": "EO7C4qQdWK22",
        "outputId": "64070a87-c207-42cb-f545-e55a289ff33a"
      },
      "source": [
        "from numpy import array\n",
        "\n",
        "lst_output=[]\n",
        "n_steps=100\n",
        "i=0\n",
        "while(i<30):\n",
        "    \n",
        "    if(len(temp_input)>100):\n",
        "        #print(temp_inumpyut)\n",
        "        x_input=numpy.array(temp_input[1:])\n",
        "        print(\"{} day input {}\".format(i,x_input))\n",
        "        x_input=x_input.reshape(1,-1)\n",
        "        x_input = x_input.reshape((1, n_steps, 1))\n",
        "        #print(x_input)\n",
        "        yhat = lst.predict(x_input, verbose=0)\n",
        "        print(\"{} day output {}\".format(i,yhat))\n",
        "        temp_input.extend(yhat[0].tolist())\n",
        "        temp_input=temp_input[1:]\n",
        "        #print(temp_inumpyut)\n",
        "        lst_output.extend(yhat.tolist())\n",
        "        i=i+1\n",
        "    else:\n",
        "        x_input = x_input.reshape((1, n_steps,1))\n",
        "        yhat = lst.predict(x_input, verbose=0)\n",
        "        print(yhat[0])\n",
        "        temp_input.extend(yhat[0].tolist())\n",
        "        print(len(temp_input))\n",
        "        lst_output.extend(yhat.tolist())\n",
        "        i=i+1\n",
        "    \n",
        "\n",
        "print(lst_output)"
      ],
      "execution_count": 99,
      "outputs": [
        {
          "output_type": "stream",
          "name": "stdout",
          "text": [
            "0 day input [0.13848039 0.14011438 0.13888889 0.13541667 0.14011438 0.1380719\n",
            " 0.13071895 0.13071895 0.12867647 0.11846405 0.14644608 0.14808007\n",
            " 0.15910948 0.15992647 0.15788399 0.16441993 0.17892157 0.17933007\n",
            " 0.19260621 0.20812908 0.18974673 0.18055556 0.18239379 0.17708333\n",
            " 0.17810458 0.18055556 0.17810458 0.17851307 0.19607843 0.18913399\n",
            " 0.18954248 0.19403595 0.19444444 0.20200163 0.19771242 0.19934641\n",
            " 0.19873366 0.1997549  0.2128268  0.21568627 0.20445261 0.21772876\n",
            " 0.21098856 0.21425654 0.19750817 0.18811275 0.17851307 0.17381536\n",
            " 0.16033497 0.16564542 0.17116013 0.17422386 0.18035131 0.17401961\n",
            " 0.16278595 0.16973039 0.17810458 0.17034314 0.16830065 0.17279412\n",
            " 0.17544935 0.18382353 0.19138072 0.18913399 0.19097222 0.17238562\n",
            " 0.16830065 0.1693219  0.17177288 0.16156046 0.14971405 0.1503268\n",
            " 0.15196078 0.14726307 0.14501634 0.14603758 0.12479575 0.13112745\n",
            " 0.11397059 0.1190768  0.12377451 0.13562092 0.12908497 0.13459967\n",
            " 0.12806373 0.13031046 0.12724673 0.13521242 0.14522059 0.15257353\n",
            " 0.14848856 0.14338235 0.14562908 0.15236928 0.15400327 0.14971405\n",
            " 0.1621732  0.16319444 0.16584967 0.16576746]\n",
            "0 day output [[0.16850126]]\n",
            "1 day input [0.14011438 0.13888889 0.13541667 0.14011438 0.1380719  0.13071895\n",
            " 0.13071895 0.12867647 0.11846405 0.14644608 0.14808007 0.15910948\n",
            " 0.15992647 0.15788399 0.16441993 0.17892157 0.17933007 0.19260621\n",
            " 0.20812908 0.18974673 0.18055556 0.18239379 0.17708333 0.17810458\n",
            " 0.18055556 0.17810458 0.17851307 0.19607843 0.18913399 0.18954248\n",
            " 0.19403595 0.19444444 0.20200163 0.19771242 0.19934641 0.19873366\n",
            " 0.1997549  0.2128268  0.21568627 0.20445261 0.21772876 0.21098856\n",
            " 0.21425654 0.19750817 0.18811275 0.17851307 0.17381536 0.16033497\n",
            " 0.16564542 0.17116013 0.17422386 0.18035131 0.17401961 0.16278595\n",
            " 0.16973039 0.17810458 0.17034314 0.16830065 0.17279412 0.17544935\n",
            " 0.18382353 0.19138072 0.18913399 0.19097222 0.17238562 0.16830065\n",
            " 0.1693219  0.17177288 0.16156046 0.14971405 0.1503268  0.15196078\n",
            " 0.14726307 0.14501634 0.14603758 0.12479575 0.13112745 0.11397059\n",
            " 0.1190768  0.12377451 0.13562092 0.12908497 0.13459967 0.12806373\n",
            " 0.13031046 0.12724673 0.13521242 0.14522059 0.15257353 0.14848856\n",
            " 0.14338235 0.14562908 0.15236928 0.15400327 0.14971405 0.1621732\n",
            " 0.16319444 0.16584967 0.16576746 0.16850126]\n",
            "1 day output [[0.16970408]]\n",
            "2 day input [0.13888889 0.13541667 0.14011438 0.1380719  0.13071895 0.13071895\n",
            " 0.12867647 0.11846405 0.14644608 0.14808007 0.15910948 0.15992647\n",
            " 0.15788399 0.16441993 0.17892157 0.17933007 0.19260621 0.20812908\n",
            " 0.18974673 0.18055556 0.18239379 0.17708333 0.17810458 0.18055556\n",
            " 0.17810458 0.17851307 0.19607843 0.18913399 0.18954248 0.19403595\n",
            " 0.19444444 0.20200163 0.19771242 0.19934641 0.19873366 0.1997549\n",
            " 0.2128268  0.21568627 0.20445261 0.21772876 0.21098856 0.21425654\n",
            " 0.19750817 0.18811275 0.17851307 0.17381536 0.16033497 0.16564542\n",
            " 0.17116013 0.17422386 0.18035131 0.17401961 0.16278595 0.16973039\n",
            " 0.17810458 0.17034314 0.16830065 0.17279412 0.17544935 0.18382353\n",
            " 0.19138072 0.18913399 0.19097222 0.17238562 0.16830065 0.1693219\n",
            " 0.17177288 0.16156046 0.14971405 0.1503268  0.15196078 0.14726307\n",
            " 0.14501634 0.14603758 0.12479575 0.13112745 0.11397059 0.1190768\n",
            " 0.12377451 0.13562092 0.12908497 0.13459967 0.12806373 0.13031046\n",
            " 0.12724673 0.13521242 0.14522059 0.15257353 0.14848856 0.14338235\n",
            " 0.14562908 0.15236928 0.15400327 0.14971405 0.1621732  0.16319444\n",
            " 0.16584967 0.16576746 0.16850126 0.16970408]\n",
            "2 day output [[0.17102306]]\n",
            "3 day input [0.13541667 0.14011438 0.1380719  0.13071895 0.13071895 0.12867647\n",
            " 0.11846405 0.14644608 0.14808007 0.15910948 0.15992647 0.15788399\n",
            " 0.16441993 0.17892157 0.17933007 0.19260621 0.20812908 0.18974673\n",
            " 0.18055556 0.18239379 0.17708333 0.17810458 0.18055556 0.17810458\n",
            " 0.17851307 0.19607843 0.18913399 0.18954248 0.19403595 0.19444444\n",
            " 0.20200163 0.19771242 0.19934641 0.19873366 0.1997549  0.2128268\n",
            " 0.21568627 0.20445261 0.21772876 0.21098856 0.21425654 0.19750817\n",
            " 0.18811275 0.17851307 0.17381536 0.16033497 0.16564542 0.17116013\n",
            " 0.17422386 0.18035131 0.17401961 0.16278595 0.16973039 0.17810458\n",
            " 0.17034314 0.16830065 0.17279412 0.17544935 0.18382353 0.19138072\n",
            " 0.18913399 0.19097222 0.17238562 0.16830065 0.1693219  0.17177288\n",
            " 0.16156046 0.14971405 0.1503268  0.15196078 0.14726307 0.14501634\n",
            " 0.14603758 0.12479575 0.13112745 0.11397059 0.1190768  0.12377451\n",
            " 0.13562092 0.12908497 0.13459967 0.12806373 0.13031046 0.12724673\n",
            " 0.13521242 0.14522059 0.15257353 0.14848856 0.14338235 0.14562908\n",
            " 0.15236928 0.15400327 0.14971405 0.1621732  0.16319444 0.16584967\n",
            " 0.16576746 0.16850126 0.16970408 0.17102306]\n",
            "3 day output [[0.17242539]]\n",
            "4 day input [0.14011438 0.1380719  0.13071895 0.13071895 0.12867647 0.11846405\n",
            " 0.14644608 0.14808007 0.15910948 0.15992647 0.15788399 0.16441993\n",
            " 0.17892157 0.17933007 0.19260621 0.20812908 0.18974673 0.18055556\n",
            " 0.18239379 0.17708333 0.17810458 0.18055556 0.17810458 0.17851307\n",
            " 0.19607843 0.18913399 0.18954248 0.19403595 0.19444444 0.20200163\n",
            " 0.19771242 0.19934641 0.19873366 0.1997549  0.2128268  0.21568627\n",
            " 0.20445261 0.21772876 0.21098856 0.21425654 0.19750817 0.18811275\n",
            " 0.17851307 0.17381536 0.16033497 0.16564542 0.17116013 0.17422386\n",
            " 0.18035131 0.17401961 0.16278595 0.16973039 0.17810458 0.17034314\n",
            " 0.16830065 0.17279412 0.17544935 0.18382353 0.19138072 0.18913399\n",
            " 0.19097222 0.17238562 0.16830065 0.1693219  0.17177288 0.16156046\n",
            " 0.14971405 0.1503268  0.15196078 0.14726307 0.14501634 0.14603758\n",
            " 0.12479575 0.13112745 0.11397059 0.1190768  0.12377451 0.13562092\n",
            " 0.12908497 0.13459967 0.12806373 0.13031046 0.12724673 0.13521242\n",
            " 0.14522059 0.15257353 0.14848856 0.14338235 0.14562908 0.15236928\n",
            " 0.15400327 0.14971405 0.1621732  0.16319444 0.16584967 0.16576746\n",
            " 0.16850126 0.16970408 0.17102306 0.17242539]\n",
            "4 day output [[0.17386693]]\n",
            "5 day input [0.1380719  0.13071895 0.13071895 0.12867647 0.11846405 0.14644608\n",
            " 0.14808007 0.15910948 0.15992647 0.15788399 0.16441993 0.17892157\n",
            " 0.17933007 0.19260621 0.20812908 0.18974673 0.18055556 0.18239379\n",
            " 0.17708333 0.17810458 0.18055556 0.17810458 0.17851307 0.19607843\n",
            " 0.18913399 0.18954248 0.19403595 0.19444444 0.20200163 0.19771242\n",
            " 0.19934641 0.19873366 0.1997549  0.2128268  0.21568627 0.20445261\n",
            " 0.21772876 0.21098856 0.21425654 0.19750817 0.18811275 0.17851307\n",
            " 0.17381536 0.16033497 0.16564542 0.17116013 0.17422386 0.18035131\n",
            " 0.17401961 0.16278595 0.16973039 0.17810458 0.17034314 0.16830065\n",
            " 0.17279412 0.17544935 0.18382353 0.19138072 0.18913399 0.19097222\n",
            " 0.17238562 0.16830065 0.1693219  0.17177288 0.16156046 0.14971405\n",
            " 0.1503268  0.15196078 0.14726307 0.14501634 0.14603758 0.12479575\n",
            " 0.13112745 0.11397059 0.1190768  0.12377451 0.13562092 0.12908497\n",
            " 0.13459967 0.12806373 0.13031046 0.12724673 0.13521242 0.14522059\n",
            " 0.15257353 0.14848856 0.14338235 0.14562908 0.15236928 0.15400327\n",
            " 0.14971405 0.1621732  0.16319444 0.16584967 0.16576746 0.16850126\n",
            " 0.16970408 0.17102306 0.17242539 0.17386693]\n",
            "5 day output [[0.17532542]]\n",
            "6 day input [0.13071895 0.13071895 0.12867647 0.11846405 0.14644608 0.14808007\n",
            " 0.15910948 0.15992647 0.15788399 0.16441993 0.17892157 0.17933007\n",
            " 0.19260621 0.20812908 0.18974673 0.18055556 0.18239379 0.17708333\n",
            " 0.17810458 0.18055556 0.17810458 0.17851307 0.19607843 0.18913399\n",
            " 0.18954248 0.19403595 0.19444444 0.20200163 0.19771242 0.19934641\n",
            " 0.19873366 0.1997549  0.2128268  0.21568627 0.20445261 0.21772876\n",
            " 0.21098856 0.21425654 0.19750817 0.18811275 0.17851307 0.17381536\n",
            " 0.16033497 0.16564542 0.17116013 0.17422386 0.18035131 0.17401961\n",
            " 0.16278595 0.16973039 0.17810458 0.17034314 0.16830065 0.17279412\n",
            " 0.17544935 0.18382353 0.19138072 0.18913399 0.19097222 0.17238562\n",
            " 0.16830065 0.1693219  0.17177288 0.16156046 0.14971405 0.1503268\n",
            " 0.15196078 0.14726307 0.14501634 0.14603758 0.12479575 0.13112745\n",
            " 0.11397059 0.1190768  0.12377451 0.13562092 0.12908497 0.13459967\n",
            " 0.12806373 0.13031046 0.12724673 0.13521242 0.14522059 0.15257353\n",
            " 0.14848856 0.14338235 0.14562908 0.15236928 0.15400327 0.14971405\n",
            " 0.1621732  0.16319444 0.16584967 0.16576746 0.16850126 0.16970408\n",
            " 0.17102306 0.17242539 0.17386693 0.17532542]\n",
            "6 day output [[0.17679158]]\n",
            "7 day input [0.13071895 0.12867647 0.11846405 0.14644608 0.14808007 0.15910948\n",
            " 0.15992647 0.15788399 0.16441993 0.17892157 0.17933007 0.19260621\n",
            " 0.20812908 0.18974673 0.18055556 0.18239379 0.17708333 0.17810458\n",
            " 0.18055556 0.17810458 0.17851307 0.19607843 0.18913399 0.18954248\n",
            " 0.19403595 0.19444444 0.20200163 0.19771242 0.19934641 0.19873366\n",
            " 0.1997549  0.2128268  0.21568627 0.20445261 0.21772876 0.21098856\n",
            " 0.21425654 0.19750817 0.18811275 0.17851307 0.17381536 0.16033497\n",
            " 0.16564542 0.17116013 0.17422386 0.18035131 0.17401961 0.16278595\n",
            " 0.16973039 0.17810458 0.17034314 0.16830065 0.17279412 0.17544935\n",
            " 0.18382353 0.19138072 0.18913399 0.19097222 0.17238562 0.16830065\n",
            " 0.1693219  0.17177288 0.16156046 0.14971405 0.1503268  0.15196078\n",
            " 0.14726307 0.14501634 0.14603758 0.12479575 0.13112745 0.11397059\n",
            " 0.1190768  0.12377451 0.13562092 0.12908497 0.13459967 0.12806373\n",
            " 0.13031046 0.12724673 0.13521242 0.14522059 0.15257353 0.14848856\n",
            " 0.14338235 0.14562908 0.15236928 0.15400327 0.14971405 0.1621732\n",
            " 0.16319444 0.16584967 0.16576746 0.16850126 0.16970408 0.17102306\n",
            " 0.17242539 0.17386693 0.17532542 0.17679158]\n",
            "7 day output [[0.17826106]]\n",
            "8 day input [0.12867647 0.11846405 0.14644608 0.14808007 0.15910948 0.15992647\n",
            " 0.15788399 0.16441993 0.17892157 0.17933007 0.19260621 0.20812908\n",
            " 0.18974673 0.18055556 0.18239379 0.17708333 0.17810458 0.18055556\n",
            " 0.17810458 0.17851307 0.19607843 0.18913399 0.18954248 0.19403595\n",
            " 0.19444444 0.20200163 0.19771242 0.19934641 0.19873366 0.1997549\n",
            " 0.2128268  0.21568627 0.20445261 0.21772876 0.21098856 0.21425654\n",
            " 0.19750817 0.18811275 0.17851307 0.17381536 0.16033497 0.16564542\n",
            " 0.17116013 0.17422386 0.18035131 0.17401961 0.16278595 0.16973039\n",
            " 0.17810458 0.17034314 0.16830065 0.17279412 0.17544935 0.18382353\n",
            " 0.19138072 0.18913399 0.19097222 0.17238562 0.16830065 0.1693219\n",
            " 0.17177288 0.16156046 0.14971405 0.1503268  0.15196078 0.14726307\n",
            " 0.14501634 0.14603758 0.12479575 0.13112745 0.11397059 0.1190768\n",
            " 0.12377451 0.13562092 0.12908497 0.13459967 0.12806373 0.13031046\n",
            " 0.12724673 0.13521242 0.14522059 0.15257353 0.14848856 0.14338235\n",
            " 0.14562908 0.15236928 0.15400327 0.14971405 0.1621732  0.16319444\n",
            " 0.16584967 0.16576746 0.16850126 0.16970408 0.17102306 0.17242539\n",
            " 0.17386693 0.17532542 0.17679158 0.17826106]\n",
            "8 day output [[0.1797314]]\n",
            "9 day input [0.11846405 0.14644608 0.14808007 0.15910948 0.15992647 0.15788399\n",
            " 0.16441993 0.17892157 0.17933007 0.19260621 0.20812908 0.18974673\n",
            " 0.18055556 0.18239379 0.17708333 0.17810458 0.18055556 0.17810458\n",
            " 0.17851307 0.19607843 0.18913399 0.18954248 0.19403595 0.19444444\n",
            " 0.20200163 0.19771242 0.19934641 0.19873366 0.1997549  0.2128268\n",
            " 0.21568627 0.20445261 0.21772876 0.21098856 0.21425654 0.19750817\n",
            " 0.18811275 0.17851307 0.17381536 0.16033497 0.16564542 0.17116013\n",
            " 0.17422386 0.18035131 0.17401961 0.16278595 0.16973039 0.17810458\n",
            " 0.17034314 0.16830065 0.17279412 0.17544935 0.18382353 0.19138072\n",
            " 0.18913399 0.19097222 0.17238562 0.16830065 0.1693219  0.17177288\n",
            " 0.16156046 0.14971405 0.1503268  0.15196078 0.14726307 0.14501634\n",
            " 0.14603758 0.12479575 0.13112745 0.11397059 0.1190768  0.12377451\n",
            " 0.13562092 0.12908497 0.13459967 0.12806373 0.13031046 0.12724673\n",
            " 0.13521242 0.14522059 0.15257353 0.14848856 0.14338235 0.14562908\n",
            " 0.15236928 0.15400327 0.14971405 0.1621732  0.16319444 0.16584967\n",
            " 0.16576746 0.16850126 0.16970408 0.17102306 0.17242539 0.17386693\n",
            " 0.17532542 0.17679158 0.17826106 0.1797314 ]\n",
            "9 day output [[0.18120103]]\n",
            "10 day input [0.14644608 0.14808007 0.15910948 0.15992647 0.15788399 0.16441993\n",
            " 0.17892157 0.17933007 0.19260621 0.20812908 0.18974673 0.18055556\n",
            " 0.18239379 0.17708333 0.17810458 0.18055556 0.17810458 0.17851307\n",
            " 0.19607843 0.18913399 0.18954248 0.19403595 0.19444444 0.20200163\n",
            " 0.19771242 0.19934641 0.19873366 0.1997549  0.2128268  0.21568627\n",
            " 0.20445261 0.21772876 0.21098856 0.21425654 0.19750817 0.18811275\n",
            " 0.17851307 0.17381536 0.16033497 0.16564542 0.17116013 0.17422386\n",
            " 0.18035131 0.17401961 0.16278595 0.16973039 0.17810458 0.17034314\n",
            " 0.16830065 0.17279412 0.17544935 0.18382353 0.19138072 0.18913399\n",
            " 0.19097222 0.17238562 0.16830065 0.1693219  0.17177288 0.16156046\n",
            " 0.14971405 0.1503268  0.15196078 0.14726307 0.14501634 0.14603758\n",
            " 0.12479575 0.13112745 0.11397059 0.1190768  0.12377451 0.13562092\n",
            " 0.12908497 0.13459967 0.12806373 0.13031046 0.12724673 0.13521242\n",
            " 0.14522059 0.15257353 0.14848856 0.14338235 0.14562908 0.15236928\n",
            " 0.15400327 0.14971405 0.1621732  0.16319444 0.16584967 0.16576746\n",
            " 0.16850126 0.16970408 0.17102306 0.17242539 0.17386693 0.17532542\n",
            " 0.17679158 0.17826106 0.1797314  0.18120103]\n",
            "10 day output [[0.18266885]]\n",
            "11 day input [0.14808007 0.15910948 0.15992647 0.15788399 0.16441993 0.17892157\n",
            " 0.17933007 0.19260621 0.20812908 0.18974673 0.18055556 0.18239379\n",
            " 0.17708333 0.17810458 0.18055556 0.17810458 0.17851307 0.19607843\n",
            " 0.18913399 0.18954248 0.19403595 0.19444444 0.20200163 0.19771242\n",
            " 0.19934641 0.19873366 0.1997549  0.2128268  0.21568627 0.20445261\n",
            " 0.21772876 0.21098856 0.21425654 0.19750817 0.18811275 0.17851307\n",
            " 0.17381536 0.16033497 0.16564542 0.17116013 0.17422386 0.18035131\n",
            " 0.17401961 0.16278595 0.16973039 0.17810458 0.17034314 0.16830065\n",
            " 0.17279412 0.17544935 0.18382353 0.19138072 0.18913399 0.19097222\n",
            " 0.17238562 0.16830065 0.1693219  0.17177288 0.16156046 0.14971405\n",
            " 0.1503268  0.15196078 0.14726307 0.14501634 0.14603758 0.12479575\n",
            " 0.13112745 0.11397059 0.1190768  0.12377451 0.13562092 0.12908497\n",
            " 0.13459967 0.12806373 0.13031046 0.12724673 0.13521242 0.14522059\n",
            " 0.15257353 0.14848856 0.14338235 0.14562908 0.15236928 0.15400327\n",
            " 0.14971405 0.1621732  0.16319444 0.16584967 0.16576746 0.16850126\n",
            " 0.16970408 0.17102306 0.17242539 0.17386693 0.17532542 0.17679158\n",
            " 0.17826106 0.1797314  0.18120103 0.18266885]\n",
            "11 day output [[0.18413374]]\n",
            "12 day input [0.15910948 0.15992647 0.15788399 0.16441993 0.17892157 0.17933007\n",
            " 0.19260621 0.20812908 0.18974673 0.18055556 0.18239379 0.17708333\n",
            " 0.17810458 0.18055556 0.17810458 0.17851307 0.19607843 0.18913399\n",
            " 0.18954248 0.19403595 0.19444444 0.20200163 0.19771242 0.19934641\n",
            " 0.19873366 0.1997549  0.2128268  0.21568627 0.20445261 0.21772876\n",
            " 0.21098856 0.21425654 0.19750817 0.18811275 0.17851307 0.17381536\n",
            " 0.16033497 0.16564542 0.17116013 0.17422386 0.18035131 0.17401961\n",
            " 0.16278595 0.16973039 0.17810458 0.17034314 0.16830065 0.17279412\n",
            " 0.17544935 0.18382353 0.19138072 0.18913399 0.19097222 0.17238562\n",
            " 0.16830065 0.1693219  0.17177288 0.16156046 0.14971405 0.1503268\n",
            " 0.15196078 0.14726307 0.14501634 0.14603758 0.12479575 0.13112745\n",
            " 0.11397059 0.1190768  0.12377451 0.13562092 0.12908497 0.13459967\n",
            " 0.12806373 0.13031046 0.12724673 0.13521242 0.14522059 0.15257353\n",
            " 0.14848856 0.14338235 0.14562908 0.15236928 0.15400327 0.14971405\n",
            " 0.1621732  0.16319444 0.16584967 0.16576746 0.16850126 0.16970408\n",
            " 0.17102306 0.17242539 0.17386693 0.17532542 0.17679158 0.17826106\n",
            " 0.1797314  0.18120103 0.18266885 0.18413374]\n",
            "12 day output [[0.18559487]]\n",
            "13 day input [0.15992647 0.15788399 0.16441993 0.17892157 0.17933007 0.19260621\n",
            " 0.20812908 0.18974673 0.18055556 0.18239379 0.17708333 0.17810458\n",
            " 0.18055556 0.17810458 0.17851307 0.19607843 0.18913399 0.18954248\n",
            " 0.19403595 0.19444444 0.20200163 0.19771242 0.19934641 0.19873366\n",
            " 0.1997549  0.2128268  0.21568627 0.20445261 0.21772876 0.21098856\n",
            " 0.21425654 0.19750817 0.18811275 0.17851307 0.17381536 0.16033497\n",
            " 0.16564542 0.17116013 0.17422386 0.18035131 0.17401961 0.16278595\n",
            " 0.16973039 0.17810458 0.17034314 0.16830065 0.17279412 0.17544935\n",
            " 0.18382353 0.19138072 0.18913399 0.19097222 0.17238562 0.16830065\n",
            " 0.1693219  0.17177288 0.16156046 0.14971405 0.1503268  0.15196078\n",
            " 0.14726307 0.14501634 0.14603758 0.12479575 0.13112745 0.11397059\n",
            " 0.1190768  0.12377451 0.13562092 0.12908497 0.13459967 0.12806373\n",
            " 0.13031046 0.12724673 0.13521242 0.14522059 0.15257353 0.14848856\n",
            " 0.14338235 0.14562908 0.15236928 0.15400327 0.14971405 0.1621732\n",
            " 0.16319444 0.16584967 0.16576746 0.16850126 0.16970408 0.17102306\n",
            " 0.17242539 0.17386693 0.17532542 0.17679158 0.17826106 0.1797314\n",
            " 0.18120103 0.18266885 0.18413374 0.18559487]\n",
            "13 day output [[0.18705127]]\n",
            "14 day input [0.15788399 0.16441993 0.17892157 0.17933007 0.19260621 0.20812908\n",
            " 0.18974673 0.18055556 0.18239379 0.17708333 0.17810458 0.18055556\n",
            " 0.17810458 0.17851307 0.19607843 0.18913399 0.18954248 0.19403595\n",
            " 0.19444444 0.20200163 0.19771242 0.19934641 0.19873366 0.1997549\n",
            " 0.2128268  0.21568627 0.20445261 0.21772876 0.21098856 0.21425654\n",
            " 0.19750817 0.18811275 0.17851307 0.17381536 0.16033497 0.16564542\n",
            " 0.17116013 0.17422386 0.18035131 0.17401961 0.16278595 0.16973039\n",
            " 0.17810458 0.17034314 0.16830065 0.17279412 0.17544935 0.18382353\n",
            " 0.19138072 0.18913399 0.19097222 0.17238562 0.16830065 0.1693219\n",
            " 0.17177288 0.16156046 0.14971405 0.1503268  0.15196078 0.14726307\n",
            " 0.14501634 0.14603758 0.12479575 0.13112745 0.11397059 0.1190768\n",
            " 0.12377451 0.13562092 0.12908497 0.13459967 0.12806373 0.13031046\n",
            " 0.12724673 0.13521242 0.14522059 0.15257353 0.14848856 0.14338235\n",
            " 0.14562908 0.15236928 0.15400327 0.14971405 0.1621732  0.16319444\n",
            " 0.16584967 0.16576746 0.16850126 0.16970408 0.17102306 0.17242539\n",
            " 0.17386693 0.17532542 0.17679158 0.17826106 0.1797314  0.18120103\n",
            " 0.18266885 0.18413374 0.18559487 0.18705127]\n",
            "14 day output [[0.18850203]]\n",
            "15 day input [0.16441993 0.17892157 0.17933007 0.19260621 0.20812908 0.18974673\n",
            " 0.18055556 0.18239379 0.17708333 0.17810458 0.18055556 0.17810458\n",
            " 0.17851307 0.19607843 0.18913399 0.18954248 0.19403595 0.19444444\n",
            " 0.20200163 0.19771242 0.19934641 0.19873366 0.1997549  0.2128268\n",
            " 0.21568627 0.20445261 0.21772876 0.21098856 0.21425654 0.19750817\n",
            " 0.18811275 0.17851307 0.17381536 0.16033497 0.16564542 0.17116013\n",
            " 0.17422386 0.18035131 0.17401961 0.16278595 0.16973039 0.17810458\n",
            " 0.17034314 0.16830065 0.17279412 0.17544935 0.18382353 0.19138072\n",
            " 0.18913399 0.19097222 0.17238562 0.16830065 0.1693219  0.17177288\n",
            " 0.16156046 0.14971405 0.1503268  0.15196078 0.14726307 0.14501634\n",
            " 0.14603758 0.12479575 0.13112745 0.11397059 0.1190768  0.12377451\n",
            " 0.13562092 0.12908497 0.13459967 0.12806373 0.13031046 0.12724673\n",
            " 0.13521242 0.14522059 0.15257353 0.14848856 0.14338235 0.14562908\n",
            " 0.15236928 0.15400327 0.14971405 0.1621732  0.16319444 0.16584967\n",
            " 0.16576746 0.16850126 0.16970408 0.17102306 0.17242539 0.17386693\n",
            " 0.17532542 0.17679158 0.17826106 0.1797314  0.18120103 0.18266885\n",
            " 0.18413374 0.18559487 0.18705127 0.18850203]\n",
            "15 day output [[0.1899464]]\n",
            "16 day input [0.17892157 0.17933007 0.19260621 0.20812908 0.18974673 0.18055556\n",
            " 0.18239379 0.17708333 0.17810458 0.18055556 0.17810458 0.17851307\n",
            " 0.19607843 0.18913399 0.18954248 0.19403595 0.19444444 0.20200163\n",
            " 0.19771242 0.19934641 0.19873366 0.1997549  0.2128268  0.21568627\n",
            " 0.20445261 0.21772876 0.21098856 0.21425654 0.19750817 0.18811275\n",
            " 0.17851307 0.17381536 0.16033497 0.16564542 0.17116013 0.17422386\n",
            " 0.18035131 0.17401961 0.16278595 0.16973039 0.17810458 0.17034314\n",
            " 0.16830065 0.17279412 0.17544935 0.18382353 0.19138072 0.18913399\n",
            " 0.19097222 0.17238562 0.16830065 0.1693219  0.17177288 0.16156046\n",
            " 0.14971405 0.1503268  0.15196078 0.14726307 0.14501634 0.14603758\n",
            " 0.12479575 0.13112745 0.11397059 0.1190768  0.12377451 0.13562092\n",
            " 0.12908497 0.13459967 0.12806373 0.13031046 0.12724673 0.13521242\n",
            " 0.14522059 0.15257353 0.14848856 0.14338235 0.14562908 0.15236928\n",
            " 0.15400327 0.14971405 0.1621732  0.16319444 0.16584967 0.16576746\n",
            " 0.16850126 0.16970408 0.17102306 0.17242539 0.17386693 0.17532542\n",
            " 0.17679158 0.17826106 0.1797314  0.18120103 0.18266885 0.18413374\n",
            " 0.18559487 0.18705127 0.18850203 0.1899464 ]\n",
            "16 day output [[0.19138367]]\n",
            "17 day input [0.17933007 0.19260621 0.20812908 0.18974673 0.18055556 0.18239379\n",
            " 0.17708333 0.17810458 0.18055556 0.17810458 0.17851307 0.19607843\n",
            " 0.18913399 0.18954248 0.19403595 0.19444444 0.20200163 0.19771242\n",
            " 0.19934641 0.19873366 0.1997549  0.2128268  0.21568627 0.20445261\n",
            " 0.21772876 0.21098856 0.21425654 0.19750817 0.18811275 0.17851307\n",
            " 0.17381536 0.16033497 0.16564542 0.17116013 0.17422386 0.18035131\n",
            " 0.17401961 0.16278595 0.16973039 0.17810458 0.17034314 0.16830065\n",
            " 0.17279412 0.17544935 0.18382353 0.19138072 0.18913399 0.19097222\n",
            " 0.17238562 0.16830065 0.1693219  0.17177288 0.16156046 0.14971405\n",
            " 0.1503268  0.15196078 0.14726307 0.14501634 0.14603758 0.12479575\n",
            " 0.13112745 0.11397059 0.1190768  0.12377451 0.13562092 0.12908497\n",
            " 0.13459967 0.12806373 0.13031046 0.12724673 0.13521242 0.14522059\n",
            " 0.15257353 0.14848856 0.14338235 0.14562908 0.15236928 0.15400327\n",
            " 0.14971405 0.1621732  0.16319444 0.16584967 0.16576746 0.16850126\n",
            " 0.16970408 0.17102306 0.17242539 0.17386693 0.17532542 0.17679158\n",
            " 0.17826106 0.1797314  0.18120103 0.18266885 0.18413374 0.18559487\n",
            " 0.18705127 0.18850203 0.1899464  0.19138367]\n",
            "17 day output [[0.19281334]]\n",
            "18 day input [0.19260621 0.20812908 0.18974673 0.18055556 0.18239379 0.17708333\n",
            " 0.17810458 0.18055556 0.17810458 0.17851307 0.19607843 0.18913399\n",
            " 0.18954248 0.19403595 0.19444444 0.20200163 0.19771242 0.19934641\n",
            " 0.19873366 0.1997549  0.2128268  0.21568627 0.20445261 0.21772876\n",
            " 0.21098856 0.21425654 0.19750817 0.18811275 0.17851307 0.17381536\n",
            " 0.16033497 0.16564542 0.17116013 0.17422386 0.18035131 0.17401961\n",
            " 0.16278595 0.16973039 0.17810458 0.17034314 0.16830065 0.17279412\n",
            " 0.17544935 0.18382353 0.19138072 0.18913399 0.19097222 0.17238562\n",
            " 0.16830065 0.1693219  0.17177288 0.16156046 0.14971405 0.1503268\n",
            " 0.15196078 0.14726307 0.14501634 0.14603758 0.12479575 0.13112745\n",
            " 0.11397059 0.1190768  0.12377451 0.13562092 0.12908497 0.13459967\n",
            " 0.12806373 0.13031046 0.12724673 0.13521242 0.14522059 0.15257353\n",
            " 0.14848856 0.14338235 0.14562908 0.15236928 0.15400327 0.14971405\n",
            " 0.1621732  0.16319444 0.16584967 0.16576746 0.16850126 0.16970408\n",
            " 0.17102306 0.17242539 0.17386693 0.17532542 0.17679158 0.17826106\n",
            " 0.1797314  0.18120103 0.18266885 0.18413374 0.18559487 0.18705127\n",
            " 0.18850203 0.1899464  0.19138367 0.19281334]\n",
            "18 day output [[0.19423507]]\n",
            "19 day input [0.20812908 0.18974673 0.18055556 0.18239379 0.17708333 0.17810458\n",
            " 0.18055556 0.17810458 0.17851307 0.19607843 0.18913399 0.18954248\n",
            " 0.19403595 0.19444444 0.20200163 0.19771242 0.19934641 0.19873366\n",
            " 0.1997549  0.2128268  0.21568627 0.20445261 0.21772876 0.21098856\n",
            " 0.21425654 0.19750817 0.18811275 0.17851307 0.17381536 0.16033497\n",
            " 0.16564542 0.17116013 0.17422386 0.18035131 0.17401961 0.16278595\n",
            " 0.16973039 0.17810458 0.17034314 0.16830065 0.17279412 0.17544935\n",
            " 0.18382353 0.19138072 0.18913399 0.19097222 0.17238562 0.16830065\n",
            " 0.1693219  0.17177288 0.16156046 0.14971405 0.1503268  0.15196078\n",
            " 0.14726307 0.14501634 0.14603758 0.12479575 0.13112745 0.11397059\n",
            " 0.1190768  0.12377451 0.13562092 0.12908497 0.13459967 0.12806373\n",
            " 0.13031046 0.12724673 0.13521242 0.14522059 0.15257353 0.14848856\n",
            " 0.14338235 0.14562908 0.15236928 0.15400327 0.14971405 0.1621732\n",
            " 0.16319444 0.16584967 0.16576746 0.16850126 0.16970408 0.17102306\n",
            " 0.17242539 0.17386693 0.17532542 0.17679158 0.17826106 0.1797314\n",
            " 0.18120103 0.18266885 0.18413374 0.18559487 0.18705127 0.18850203\n",
            " 0.1899464  0.19138367 0.19281334 0.19423507]\n",
            "19 day output [[0.19564858]]\n",
            "20 day input [0.18974673 0.18055556 0.18239379 0.17708333 0.17810458 0.18055556\n",
            " 0.17810458 0.17851307 0.19607843 0.18913399 0.18954248 0.19403595\n",
            " 0.19444444 0.20200163 0.19771242 0.19934641 0.19873366 0.1997549\n",
            " 0.2128268  0.21568627 0.20445261 0.21772876 0.21098856 0.21425654\n",
            " 0.19750817 0.18811275 0.17851307 0.17381536 0.16033497 0.16564542\n",
            " 0.17116013 0.17422386 0.18035131 0.17401961 0.16278595 0.16973039\n",
            " 0.17810458 0.17034314 0.16830065 0.17279412 0.17544935 0.18382353\n",
            " 0.19138072 0.18913399 0.19097222 0.17238562 0.16830065 0.1693219\n",
            " 0.17177288 0.16156046 0.14971405 0.1503268  0.15196078 0.14726307\n",
            " 0.14501634 0.14603758 0.12479575 0.13112745 0.11397059 0.1190768\n",
            " 0.12377451 0.13562092 0.12908497 0.13459967 0.12806373 0.13031046\n",
            " 0.12724673 0.13521242 0.14522059 0.15257353 0.14848856 0.14338235\n",
            " 0.14562908 0.15236928 0.15400327 0.14971405 0.1621732  0.16319444\n",
            " 0.16584967 0.16576746 0.16850126 0.16970408 0.17102306 0.17242539\n",
            " 0.17386693 0.17532542 0.17679158 0.17826106 0.1797314  0.18120103\n",
            " 0.18266885 0.18413374 0.18559487 0.18705127 0.18850203 0.1899464\n",
            " 0.19138367 0.19281334 0.19423507 0.19564858]\n",
            "20 day output [[0.19705398]]\n",
            "21 day input [0.18055556 0.18239379 0.17708333 0.17810458 0.18055556 0.17810458\n",
            " 0.17851307 0.19607843 0.18913399 0.18954248 0.19403595 0.19444444\n",
            " 0.20200163 0.19771242 0.19934641 0.19873366 0.1997549  0.2128268\n",
            " 0.21568627 0.20445261 0.21772876 0.21098856 0.21425654 0.19750817\n",
            " 0.18811275 0.17851307 0.17381536 0.16033497 0.16564542 0.17116013\n",
            " 0.17422386 0.18035131 0.17401961 0.16278595 0.16973039 0.17810458\n",
            " 0.17034314 0.16830065 0.17279412 0.17544935 0.18382353 0.19138072\n",
            " 0.18913399 0.19097222 0.17238562 0.16830065 0.1693219  0.17177288\n",
            " 0.16156046 0.14971405 0.1503268  0.15196078 0.14726307 0.14501634\n",
            " 0.14603758 0.12479575 0.13112745 0.11397059 0.1190768  0.12377451\n",
            " 0.13562092 0.12908497 0.13459967 0.12806373 0.13031046 0.12724673\n",
            " 0.13521242 0.14522059 0.15257353 0.14848856 0.14338235 0.14562908\n",
            " 0.15236928 0.15400327 0.14971405 0.1621732  0.16319444 0.16584967\n",
            " 0.16576746 0.16850126 0.16970408 0.17102306 0.17242539 0.17386693\n",
            " 0.17532542 0.17679158 0.17826106 0.1797314  0.18120103 0.18266885\n",
            " 0.18413374 0.18559487 0.18705127 0.18850203 0.1899464  0.19138367\n",
            " 0.19281334 0.19423507 0.19564858 0.19705398]\n",
            "21 day output [[0.19845118]]\n",
            "22 day input [0.18239379 0.17708333 0.17810458 0.18055556 0.17810458 0.17851307\n",
            " 0.19607843 0.18913399 0.18954248 0.19403595 0.19444444 0.20200163\n",
            " 0.19771242 0.19934641 0.19873366 0.1997549  0.2128268  0.21568627\n",
            " 0.20445261 0.21772876 0.21098856 0.21425654 0.19750817 0.18811275\n",
            " 0.17851307 0.17381536 0.16033497 0.16564542 0.17116013 0.17422386\n",
            " 0.18035131 0.17401961 0.16278595 0.16973039 0.17810458 0.17034314\n",
            " 0.16830065 0.17279412 0.17544935 0.18382353 0.19138072 0.18913399\n",
            " 0.19097222 0.17238562 0.16830065 0.1693219  0.17177288 0.16156046\n",
            " 0.14971405 0.1503268  0.15196078 0.14726307 0.14501634 0.14603758\n",
            " 0.12479575 0.13112745 0.11397059 0.1190768  0.12377451 0.13562092\n",
            " 0.12908497 0.13459967 0.12806373 0.13031046 0.12724673 0.13521242\n",
            " 0.14522059 0.15257353 0.14848856 0.14338235 0.14562908 0.15236928\n",
            " 0.15400327 0.14971405 0.1621732  0.16319444 0.16584967 0.16576746\n",
            " 0.16850126 0.16970408 0.17102306 0.17242539 0.17386693 0.17532542\n",
            " 0.17679158 0.17826106 0.1797314  0.18120103 0.18266885 0.18413374\n",
            " 0.18559487 0.18705127 0.18850203 0.1899464  0.19138367 0.19281334\n",
            " 0.19423507 0.19564858 0.19705398 0.19845118]\n",
            "22 day output [[0.19984037]]\n",
            "23 day input [0.17708333 0.17810458 0.18055556 0.17810458 0.17851307 0.19607843\n",
            " 0.18913399 0.18954248 0.19403595 0.19444444 0.20200163 0.19771242\n",
            " 0.19934641 0.19873366 0.1997549  0.2128268  0.21568627 0.20445261\n",
            " 0.21772876 0.21098856 0.21425654 0.19750817 0.18811275 0.17851307\n",
            " 0.17381536 0.16033497 0.16564542 0.17116013 0.17422386 0.18035131\n",
            " 0.17401961 0.16278595 0.16973039 0.17810458 0.17034314 0.16830065\n",
            " 0.17279412 0.17544935 0.18382353 0.19138072 0.18913399 0.19097222\n",
            " 0.17238562 0.16830065 0.1693219  0.17177288 0.16156046 0.14971405\n",
            " 0.1503268  0.15196078 0.14726307 0.14501634 0.14603758 0.12479575\n",
            " 0.13112745 0.11397059 0.1190768  0.12377451 0.13562092 0.12908497\n",
            " 0.13459967 0.12806373 0.13031046 0.12724673 0.13521242 0.14522059\n",
            " 0.15257353 0.14848856 0.14338235 0.14562908 0.15236928 0.15400327\n",
            " 0.14971405 0.1621732  0.16319444 0.16584967 0.16576746 0.16850126\n",
            " 0.16970408 0.17102306 0.17242539 0.17386693 0.17532542 0.17679158\n",
            " 0.17826106 0.1797314  0.18120103 0.18266885 0.18413374 0.18559487\n",
            " 0.18705127 0.18850203 0.1899464  0.19138367 0.19281334 0.19423507\n",
            " 0.19564858 0.19705398 0.19845118 0.19984037]\n",
            "23 day output [[0.20122173]]\n",
            "24 day input [0.17810458 0.18055556 0.17810458 0.17851307 0.19607843 0.18913399\n",
            " 0.18954248 0.19403595 0.19444444 0.20200163 0.19771242 0.19934641\n",
            " 0.19873366 0.1997549  0.2128268  0.21568627 0.20445261 0.21772876\n",
            " 0.21098856 0.21425654 0.19750817 0.18811275 0.17851307 0.17381536\n",
            " 0.16033497 0.16564542 0.17116013 0.17422386 0.18035131 0.17401961\n",
            " 0.16278595 0.16973039 0.17810458 0.17034314 0.16830065 0.17279412\n",
            " 0.17544935 0.18382353 0.19138072 0.18913399 0.19097222 0.17238562\n",
            " 0.16830065 0.1693219  0.17177288 0.16156046 0.14971405 0.1503268\n",
            " 0.15196078 0.14726307 0.14501634 0.14603758 0.12479575 0.13112745\n",
            " 0.11397059 0.1190768  0.12377451 0.13562092 0.12908497 0.13459967\n",
            " 0.12806373 0.13031046 0.12724673 0.13521242 0.14522059 0.15257353\n",
            " 0.14848856 0.14338235 0.14562908 0.15236928 0.15400327 0.14971405\n",
            " 0.1621732  0.16319444 0.16584967 0.16576746 0.16850126 0.16970408\n",
            " 0.17102306 0.17242539 0.17386693 0.17532542 0.17679158 0.17826106\n",
            " 0.1797314  0.18120103 0.18266885 0.18413374 0.18559487 0.18705127\n",
            " 0.18850203 0.1899464  0.19138367 0.19281334 0.19423507 0.19564858\n",
            " 0.19705398 0.19845118 0.19984037 0.20122173]\n",
            "24 day output [[0.20259543]]\n",
            "25 day input [0.18055556 0.17810458 0.17851307 0.19607843 0.18913399 0.18954248\n",
            " 0.19403595 0.19444444 0.20200163 0.19771242 0.19934641 0.19873366\n",
            " 0.1997549  0.2128268  0.21568627 0.20445261 0.21772876 0.21098856\n",
            " 0.21425654 0.19750817 0.18811275 0.17851307 0.17381536 0.16033497\n",
            " 0.16564542 0.17116013 0.17422386 0.18035131 0.17401961 0.16278595\n",
            " 0.16973039 0.17810458 0.17034314 0.16830065 0.17279412 0.17544935\n",
            " 0.18382353 0.19138072 0.18913399 0.19097222 0.17238562 0.16830065\n",
            " 0.1693219  0.17177288 0.16156046 0.14971405 0.1503268  0.15196078\n",
            " 0.14726307 0.14501634 0.14603758 0.12479575 0.13112745 0.11397059\n",
            " 0.1190768  0.12377451 0.13562092 0.12908497 0.13459967 0.12806373\n",
            " 0.13031046 0.12724673 0.13521242 0.14522059 0.15257353 0.14848856\n",
            " 0.14338235 0.14562908 0.15236928 0.15400327 0.14971405 0.1621732\n",
            " 0.16319444 0.16584967 0.16576746 0.16850126 0.16970408 0.17102306\n",
            " 0.17242539 0.17386693 0.17532542 0.17679158 0.17826106 0.1797314\n",
            " 0.18120103 0.18266885 0.18413374 0.18559487 0.18705127 0.18850203\n",
            " 0.1899464  0.19138367 0.19281334 0.19423507 0.19564858 0.19705398\n",
            " 0.19845118 0.19984037 0.20122173 0.20259543]\n",
            "25 day output [[0.20396172]]\n",
            "26 day input [0.17810458 0.17851307 0.19607843 0.18913399 0.18954248 0.19403595\n",
            " 0.19444444 0.20200163 0.19771242 0.19934641 0.19873366 0.1997549\n",
            " 0.2128268  0.21568627 0.20445261 0.21772876 0.21098856 0.21425654\n",
            " 0.19750817 0.18811275 0.17851307 0.17381536 0.16033497 0.16564542\n",
            " 0.17116013 0.17422386 0.18035131 0.17401961 0.16278595 0.16973039\n",
            " 0.17810458 0.17034314 0.16830065 0.17279412 0.17544935 0.18382353\n",
            " 0.19138072 0.18913399 0.19097222 0.17238562 0.16830065 0.1693219\n",
            " 0.17177288 0.16156046 0.14971405 0.1503268  0.15196078 0.14726307\n",
            " 0.14501634 0.14603758 0.12479575 0.13112745 0.11397059 0.1190768\n",
            " 0.12377451 0.13562092 0.12908497 0.13459967 0.12806373 0.13031046\n",
            " 0.12724673 0.13521242 0.14522059 0.15257353 0.14848856 0.14338235\n",
            " 0.14562908 0.15236928 0.15400327 0.14971405 0.1621732  0.16319444\n",
            " 0.16584967 0.16576746 0.16850126 0.16970408 0.17102306 0.17242539\n",
            " 0.17386693 0.17532542 0.17679158 0.17826106 0.1797314  0.18120103\n",
            " 0.18266885 0.18413374 0.18559487 0.18705127 0.18850203 0.1899464\n",
            " 0.19138367 0.19281334 0.19423507 0.19564858 0.19705398 0.19845118\n",
            " 0.19984037 0.20122173 0.20259543 0.20396172]\n",
            "26 day output [[0.2053208]]\n",
            "27 day input [0.17851307 0.19607843 0.18913399 0.18954248 0.19403595 0.19444444\n",
            " 0.20200163 0.19771242 0.19934641 0.19873366 0.1997549  0.2128268\n",
            " 0.21568627 0.20445261 0.21772876 0.21098856 0.21425654 0.19750817\n",
            " 0.18811275 0.17851307 0.17381536 0.16033497 0.16564542 0.17116013\n",
            " 0.17422386 0.18035131 0.17401961 0.16278595 0.16973039 0.17810458\n",
            " 0.17034314 0.16830065 0.17279412 0.17544935 0.18382353 0.19138072\n",
            " 0.18913399 0.19097222 0.17238562 0.16830065 0.1693219  0.17177288\n",
            " 0.16156046 0.14971405 0.1503268  0.15196078 0.14726307 0.14501634\n",
            " 0.14603758 0.12479575 0.13112745 0.11397059 0.1190768  0.12377451\n",
            " 0.13562092 0.12908497 0.13459967 0.12806373 0.13031046 0.12724673\n",
            " 0.13521242 0.14522059 0.15257353 0.14848856 0.14338235 0.14562908\n",
            " 0.15236928 0.15400327 0.14971405 0.1621732  0.16319444 0.16584967\n",
            " 0.16576746 0.16850126 0.16970408 0.17102306 0.17242539 0.17386693\n",
            " 0.17532542 0.17679158 0.17826106 0.1797314  0.18120103 0.18266885\n",
            " 0.18413374 0.18559487 0.18705127 0.18850203 0.1899464  0.19138367\n",
            " 0.19281334 0.19423507 0.19564858 0.19705398 0.19845118 0.19984037\n",
            " 0.20122173 0.20259543 0.20396172 0.20532081]\n",
            "27 day output [[0.20667292]]\n",
            "28 day input [0.19607843 0.18913399 0.18954248 0.19403595 0.19444444 0.20200163\n",
            " 0.19771242 0.19934641 0.19873366 0.1997549  0.2128268  0.21568627\n",
            " 0.20445261 0.21772876 0.21098856 0.21425654 0.19750817 0.18811275\n",
            " 0.17851307 0.17381536 0.16033497 0.16564542 0.17116013 0.17422386\n",
            " 0.18035131 0.17401961 0.16278595 0.16973039 0.17810458 0.17034314\n",
            " 0.16830065 0.17279412 0.17544935 0.18382353 0.19138072 0.18913399\n",
            " 0.19097222 0.17238562 0.16830065 0.1693219  0.17177288 0.16156046\n",
            " 0.14971405 0.1503268  0.15196078 0.14726307 0.14501634 0.14603758\n",
            " 0.12479575 0.13112745 0.11397059 0.1190768  0.12377451 0.13562092\n",
            " 0.12908497 0.13459967 0.12806373 0.13031046 0.12724673 0.13521242\n",
            " 0.14522059 0.15257353 0.14848856 0.14338235 0.14562908 0.15236928\n",
            " 0.15400327 0.14971405 0.1621732  0.16319444 0.16584967 0.16576746\n",
            " 0.16850126 0.16970408 0.17102306 0.17242539 0.17386693 0.17532542\n",
            " 0.17679158 0.17826106 0.1797314  0.18120103 0.18266885 0.18413374\n",
            " 0.18559487 0.18705127 0.18850203 0.1899464  0.19138367 0.19281334\n",
            " 0.19423507 0.19564858 0.19705398 0.19845118 0.19984037 0.20122173\n",
            " 0.20259543 0.20396172 0.20532081 0.20667292]\n",
            "28 day output [[0.20801824]]\n",
            "29 day input [0.18913399 0.18954248 0.19403595 0.19444444 0.20200163 0.19771242\n",
            " 0.19934641 0.19873366 0.1997549  0.2128268  0.21568627 0.20445261\n",
            " 0.21772876 0.21098856 0.21425654 0.19750817 0.18811275 0.17851307\n",
            " 0.17381536 0.16033497 0.16564542 0.17116013 0.17422386 0.18035131\n",
            " 0.17401961 0.16278595 0.16973039 0.17810458 0.17034314 0.16830065\n",
            " 0.17279412 0.17544935 0.18382353 0.19138072 0.18913399 0.19097222\n",
            " 0.17238562 0.16830065 0.1693219  0.17177288 0.16156046 0.14971405\n",
            " 0.1503268  0.15196078 0.14726307 0.14501634 0.14603758 0.12479575\n",
            " 0.13112745 0.11397059 0.1190768  0.12377451 0.13562092 0.12908497\n",
            " 0.13459967 0.12806373 0.13031046 0.12724673 0.13521242 0.14522059\n",
            " 0.15257353 0.14848856 0.14338235 0.14562908 0.15236928 0.15400327\n",
            " 0.14971405 0.1621732  0.16319444 0.16584967 0.16576746 0.16850126\n",
            " 0.16970408 0.17102306 0.17242539 0.17386693 0.17532542 0.17679158\n",
            " 0.17826106 0.1797314  0.18120103 0.18266885 0.18413374 0.18559487\n",
            " 0.18705127 0.18850203 0.1899464  0.19138367 0.19281334 0.19423507\n",
            " 0.19564858 0.19705398 0.19845118 0.19984037 0.20122173 0.20259543\n",
            " 0.20396172 0.20532081 0.20667292 0.20801824]\n",
            "29 day output [[0.2093569]]\n",
            "[[0.16850125789642334], [0.16970407962799072], [0.17102305591106415], [0.17242538928985596], [0.17386692762374878], [0.1753254234790802], [0.17679157853126526], [0.17826105654239655], [0.17973139882087708], [0.1812010258436203], [0.18266884982585907], [0.18413373827934265], [0.18559487164020538], [0.18705126643180847], [0.18850202858448029], [0.18994639813899994], [0.19138367474079132], [0.19281333684921265], [0.19423507153987885], [0.19564858078956604], [0.19705398380756378], [0.1984511762857437], [0.19984036684036255], [0.20122173428535461], [0.20259542763233185], [0.20396171510219574], [0.205320805311203], [0.20667292177677155], [0.2080182433128357], [0.2093569040298462]]\n"
          ]
        }
      ]
    },
    {
      "cell_type": "code",
      "metadata": {
        "id": "_0usTV1Ddnq-"
      },
      "source": [
        "day_new=np.arange(1,101)\n",
        "day_pred=np.arange(101,131)"
      ],
      "execution_count": 101,
      "outputs": []
    },
    {
      "cell_type": "code",
      "metadata": {
        "colab": {
          "base_uri": "https://localhost:8080/",
          "height": 281
        },
        "id": "ADTXvur5drix",
        "outputId": "566049a9-abb2-441e-e5e6-ee1e948c4381"
      },
      "source": [
        "plt.plot(day_new,scaler.inverse_transform(data1[1935:]))\n",
        "plt.plot(day_pred,scaler.inverse_transform(lst_output))"
      ],
      "execution_count": 102,
      "outputs": [
        {
          "output_type": "execute_result",
          "data": {
            "text/plain": [
              "[<matplotlib.lines.Line2D at 0x7fc9966d5210>]"
            ]
          },
          "metadata": {},
          "execution_count": 102
        },
        {
          "output_type": "display_data",
          "data": {
            "image/png": "[encoded data removed]",
            "text/plain": [
              "<Figure size 432x288 with 1 Axes>"
            ]
          },
          "metadata": {
            "needs_background": "light"
          }
        }
      ]
    },
    {
      "cell_type": "code",
      "metadata": {
        "colab": {
          "base_uri": "https://localhost:8080/",
          "height": 281
        },
        "id": "xEc_dSKbd5eh",
        "outputId": "5f3e981d-2bb5-4fee-afe3-fda3469498f9"
      },
      "source": [
        "data2=data1.tolist()\n",
        "data2.extend(lst_output)\n",
        "plt.plot(data2[1200:])"
      ],
      "execution_count": 106,
      "outputs": [
        {
          "output_type": "execute_result",
          "data": {
            "text/plain": [
              "[<matplotlib.lines.Line2D at 0x7fc996538110>]"
            ]
          },
          "metadata": {},
          "execution_count": 106
        },
        {
          "output_type": "display_data",
          "data": {
            "image/png": "[encoded data removed]",
            "text/plain": [
              "<Figure size 432x288 with 1 Axes>"
            ]
          },
          "metadata": {
            "needs_background": "light"
          }
        }
      ]
    },
    {
      "cell_type": "code",
      "metadata": {
        "id": "YLBG8Rt6eCzo"
      },
      "source": [
        "data3=scaler.inverse_transform(data2).tolist()"
      ],
      "execution_count": 107,
      "outputs": []
    },
    {
      "cell_type": "code",
      "metadata": {
        "colab": {
          "base_uri": "https://localhost:8080/",
          "height": 281
        },
        "id": "wo6EAXqheLWo",
        "outputId": "307f9628-3893-4e53-dc19-9db6dfc3dffb"
      },
      "source": [
        "plt.plot(data2)"
      ],
      "execution_count": 108,
      "outputs": [
        {
          "output_type": "execute_result",
          "data": {
            "text/plain": [
              "[<matplotlib.lines.Line2D at 0x7fc9966591d0>]"
            ]
          },
          "metadata": {},
          "execution_count": 108
        },
        {
          "output_type": "display_data",
          "data": {
            "image/png": "[encoded data removed]",
            "text/plain": [
              "<Figure size 432x288 with 1 Axes>"
            ]
          },
          "metadata": {
            "needs_background": "light"
          }
        }
      ]
    }
  ]
}